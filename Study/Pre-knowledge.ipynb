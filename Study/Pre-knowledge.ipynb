{
 "cells": [
  {
   "cell_type": "markdown",
   "id": "1f4f2d97",
   "metadata": {},
   "source": [
    "# Class"
   ]
  },
  {
   "cell_type": "raw",
   "id": "aa06b6c0",
   "metadata": {},
   "source": [
    "클래스의 구조\n",
    " class 클래스_네임:\n",
    "     def __init__(self, 인수, ...):    # 생성자\n",
    "     ...\n",
    "     def method_name1(self, 인수, ...):    # 메서드1\n",
    "     ...\n",
    "     def method_name2(self, 인수, ...):    # 메서드2\n",
    "     ..."
   ]
  },
  {
   "cell_type": "code",
   "execution_count": 3,
   "id": "4292688e",
   "metadata": {},
   "outputs": [
    {
     "name": "stdout",
     "output_type": "stream",
     "text": [
      "Initialized!\n",
      "Hello Jin!\n",
      "Bye Jin!\n"
     ]
    }
   ],
   "source": [
    "# class 예시\n",
    "class Man:\n",
    "    def __init__(self, name):    # init: class reset\n",
    "        self.name = name    # 인스턴스 변수 초기화\n",
    "        print(\"Initialized!\")\n",
    "    \n",
    "    def hello(self):\n",
    "        print(\"Hello \" + self.name + \"!\")\n",
    "        \n",
    "    def goodbye(self):\n",
    "        print(\"Bye \" + self.name + \"!\")\n",
    "        \n",
    "m = Man(\"Jin\")\n",
    "m.hello()\n",
    "m.goodbye()"
   ]
  },
  {
   "cell_type": "markdown",
   "id": "2edb0991",
   "metadata": {},
   "source": [
    "## Numpy"
   ]
  },
  {
   "cell_type": "code",
   "execution_count": 3,
   "id": "3ae5754b",
   "metadata": {},
   "outputs": [],
   "source": [
    "import numpy as np"
   ]
  },
  {
   "cell_type": "code",
   "execution_count": 6,
   "id": "5ba51f32",
   "metadata": {
    "scrolled": false
   },
   "outputs": [
    {
     "name": "stdout",
     "output_type": "stream",
     "text": [
      "[1. 2. 3.]\n"
     ]
    },
    {
     "data": {
      "text/plain": [
       "numpy.ndarray"
      ]
     },
     "execution_count": 6,
     "metadata": {},
     "output_type": "execute_result"
    }
   ],
   "source": [
    "# creat numpy array - np.array\n",
    "x = np.array([1.0, 2.0, 3.0])\n",
    "print(x)\n",
    "type(x)"
   ]
  },
  {
   "cell_type": "code",
   "execution_count": 9,
   "id": "7b76683c",
   "metadata": {},
   "outputs": [
    {
     "name": "stdout",
     "output_type": "stream",
     "text": [
      "[3. 6. 9.]\n",
      "[-1. -2. -3.]\n",
      "[ 2.  8. 18.]\n",
      "[0.5 0.5 0.5]\n"
     ]
    }
   ],
   "source": [
    "# numpy Arithmetic operation\n",
    "x = np.array([1.0, 2.0, 3.0])\n",
    "y = np.array([2.0, 4.0, 6.0])\n",
    "print(x + y)   #원소별 계산\n",
    "print(x - y)\n",
    "print(x * y)\n",
    "print(x / y)"
   ]
  },
  {
   "cell_type": "code",
   "execution_count": 12,
   "id": "87ccae1e",
   "metadata": {},
   "outputs": [
    {
     "data": {
      "text/plain": [
       "array([2., 4., 6.])"
      ]
     },
     "execution_count": 12,
     "metadata": {},
     "output_type": "execute_result"
    }
   ],
   "source": [
    "x = np.array([1.0, 2.0, 3.0])\n",
    "x / 0.5"
   ]
  },
  {
   "cell_type": "code",
   "execution_count": 15,
   "id": "5c49722f",
   "metadata": {},
   "outputs": [
    {
     "name": "stdout",
     "output_type": "stream",
     "text": [
      "[[1 2]\n",
      " [3 4]]\n",
      "(2, 2)\n",
      "int64\n"
     ]
    }
   ],
   "source": [
    "# 다차원 배열\n",
    "A = np.array([[1, 2], [3, 4]])    #인자 안에 인자들\n",
    "print(A)\n",
    "print(A.shape)\n",
    "print(A.dtype)"
   ]
  },
  {
   "cell_type": "code",
   "execution_count": 17,
   "id": "3ed44a21",
   "metadata": {},
   "outputs": [
    {
     "name": "stdout",
     "output_type": "stream",
     "text": [
      "[[3 5]\n",
      " [7 9]]\n",
      "[[ 2  6]\n",
      " [12 20]]\n"
     ]
    }
   ],
   "source": [
    "# 다차원 배열의 연산\n",
    "A = np.array([[1, 2], [3, 4]])\n",
    "B = np.array([[2, 3], [4, 5]])\n",
    "print(A + B)\n",
    "print(A * B)"
   ]
  },
  {
   "cell_type": "markdown",
   "id": "eaf773b4",
   "metadata": {},
   "source": [
    "## 브로드캐스트"
   ]
  },
  {
   "cell_type": "code",
   "execution_count": 20,
   "id": "df8744b2",
   "metadata": {},
   "outputs": [
    {
     "data": {
      "text/plain": [
       "array([[10, 40],\n",
       "       [30, 80]])"
      ]
     },
     "execution_count": 20,
     "metadata": {},
     "output_type": "execute_result"
    }
   ],
   "source": [
    "# 1차원 배열인 B가 2차원 배열인 A에 맞추어 확장되어 연신\n",
    "A = np.array([[1, 2], [3, 4]])\n",
    "B = np.array([10 , 20])\n",
    "A * B"
   ]
  },
  {
   "cell_type": "markdown",
   "id": "9eb03307",
   "metadata": {},
   "source": [
    "### 원소 접근"
   ]
  },
  {
   "cell_type": "code",
   "execution_count": 28,
   "id": "36ee6122",
   "metadata": {},
   "outputs": [
    {
     "name": "stdout",
     "output_type": "stream",
     "text": [
      "[[10 15]\n",
      " [ 2  4]\n",
      " [23 54]]\n",
      "_____\n",
      "[10 15]\n",
      "[10 15] [1]\n",
      "_____\n",
      "[10 15]\n",
      "[2 4]\n",
      "[23 54]\n",
      "_____\n",
      "[10 15  2  4 23 54]\n",
      "_____\n",
      "[10  2 23]\n",
      "_____\n",
      "[False False False False  True  True]\n",
      "_____\n",
      "[23 54]\n"
     ]
    }
   ],
   "source": [
    "# 원소 접근법\n",
    "X = np.array([[10, 15], [2, 4], [23, 54]])\n",
    "print(X)\n",
    "print(\"_____\")\n",
    "print(X[0])    # 행\n",
    "print(X[0], [1])    # (0,1)자리의 원소\n",
    "print(\"_____\")\n",
    "for row in X:   # for 문으로도 접근 가능\n",
    "    print(row)\n",
    "print(\"_____\")\n",
    "X = X.flatten()    # 평단화\n",
    "print(X)\n",
    "print(\"_____\")\n",
    "print(X[np.array([0, 2, 4])])\n",
    "print(\"_____\")\n",
    "\n",
    "# 조건에 맞는 원소\n",
    "print(X > 15)\n",
    "print(\"_____\")\n",
    "print(X[X>15])   # 참인 값의 인덱스"
   ]
  }
 ],
 "metadata": {
  "kernelspec": {
   "display_name": "Python 3 (ipykernel)",
   "language": "python",
   "name": "python3"
  },
  "language_info": {
   "codemirror_mode": {
    "name": "ipython",
    "version": 3
   },
   "file_extension": ".py",
   "mimetype": "text/x-python",
   "name": "python",
   "nbconvert_exporter": "python",
   "pygments_lexer": "ipython3",
   "version": "3.9.7"
  }
 },
 "nbformat": 4,
 "nbformat_minor": 5
}
