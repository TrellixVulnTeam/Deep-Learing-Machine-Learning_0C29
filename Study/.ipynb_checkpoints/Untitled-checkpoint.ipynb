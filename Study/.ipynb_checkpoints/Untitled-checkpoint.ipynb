{
 "cells": [
  {
   "cell_type": "markdown",
   "id": "1f4f2d97",
   "metadata": {},
   "source": [
    "# Class"
   ]
  },
  {
   "cell_type": "raw",
   "id": "aa06b6c0",
   "metadata": {},
   "source": [
    "클래스의 구조\n",
    " class 클래스_네임:\n",
    "     def __init__(self, 인수, ...):    # 생성자\n",
    "     ...\n",
    "     def method_name1(self, 인수, ...):    # 메서드1\n",
    "     ...\n",
    "     def method_name2(self, 인수, ...):    # 메서드2\n",
    "     ..."
   ]
  },
  {
   "cell_type": "code",
   "execution_count": 3,
   "id": "4292688e",
   "metadata": {},
   "outputs": [
    {
     "name": "stdout",
     "output_type": "stream",
     "text": [
      "Initialized!\n",
      "Hello Jin!\n",
      "Bye Jin!\n"
     ]
    }
   ],
   "source": [
    "class Man:\n",
    "    def __init__(self, name):    # init: class reset\n",
    "        self.name = name    # 인스턴스 변수 초기화\n",
    "        print(\"Initialized!\")\n",
    "    \n",
    "    def hello(self):\n",
    "        print(\"Hello \" + self.name + \"!\")\n",
    "        \n",
    "    def goodbye(self):\n",
    "        print(\"Bye \" + self.name + \"!\")\n",
    "        \n",
    "m = Man(\"Jin\")\n",
    "m.hello()\n",
    "m.goodbye()"
   ]
  },
  {
   "cell_type": "markdown",
   "id": "2edb0991",
   "metadata": {},
   "source": [
    "## Numpy"
   ]
  },
  {
   "cell_type": "code",
   "execution_count": null,
   "id": "3ae5754b",
   "metadata": {},
   "outputs": [],
   "source": []
  }
 ],
 "metadata": {
  "kernelspec": {
   "display_name": "Python 3 (ipykernel)",
   "language": "python",
   "name": "python3"
  },
  "language_info": {
   "codemirror_mode": {
    "name": "ipython",
    "version": 3
   },
   "file_extension": ".py",
   "mimetype": "text/x-python",
   "name": "python",
   "nbconvert_exporter": "python",
   "pygments_lexer": "ipython3",
   "version": "3.9.7"
  }
 },
 "nbformat": 4,
 "nbformat_minor": 5
}
