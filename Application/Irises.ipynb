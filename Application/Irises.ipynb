{
 "cells": [
  {
   "cell_type": "markdown",
   "id": "d798c6b3",
   "metadata": {},
   "source": [
    "## 붓꽃의 품종 분류\n",
    "setosa, versicolor, virginica 종으로 분류한 붓꽃의 측정 데이터 <br>\n",
    "분류(Classification) 문제에 해당하고, 출력될 수 있는 값(붓꽃의 종류)들을 클래스(Class)라고 한다. <br>\n",
    "특정 데이터 포인트에 대한 출력, 즉 품종을 레이블(Label)이라고 한다."
   ]
  },
  {
   "cell_type": "markdown",
   "id": "9b6bec24",
   "metadata": {},
   "source": [
    "### 데이터 적재\n",
    "데이터는 scikit-learn의 datasets 모듈에 포함되어 있다. <br>\n",
    "load_iris 함수를 사용하여 데이터를 적재"
   ]
  },
  {
   "cell_type": "code",
   "execution_count": 1,
   "id": "9aad5999",
   "metadata": {},
   "outputs": [],
   "source": [
    "from sklearn.datasets import load_iris\n",
    "iris_dataset = load_iris()"
   ]
  },
  {
   "cell_type": "code",
   "execution_count": 2,
   "id": "39b4c330",
   "metadata": {},
   "outputs": [
    {
     "name": "stdout",
     "output_type": "stream",
     "text": [
      "iris_dataset의 키: \n",
      " dict_keys(['data', 'target', 'frame', 'target_names', 'DESCR', 'feature_names', 'filename', 'data_module'])\n"
     ]
    }
   ],
   "source": [
    "print('iris_dataset의 키: \\n', iris_dataset.keys())"
   ]
  },
  {
   "cell_type": "code",
   "execution_count": 3,
   "id": "6009a67c",
   "metadata": {},
   "outputs": [
    {
     "data": {
      "text/plain": [
       "sklearn.utils.Bunch"
      ]
     },
     "execution_count": 3,
     "metadata": {},
     "output_type": "execute_result"
    }
   ],
   "source": [
    "type(iris_dataset)"
   ]
  },
  {
   "cell_type": "code",
   "execution_count": 4,
   "id": "a11aeff4",
   "metadata": {},
   "outputs": [
    {
     "name": "stdout",
     "output_type": "stream",
     "text": [
      "타깃의 이름:  ['setosa' 'versicolor' 'virginica']\n"
     ]
    }
   ],
   "source": [
    "print('타깃의 이름: ', iris_dataset['target_names'])"
   ]
  },
  {
   "cell_type": "code",
   "execution_count": 5,
   "id": "abfe39e9",
   "metadata": {},
   "outputs": [
    {
     "name": "stdout",
     "output_type": "stream",
     "text": [
      "특성 이름:  ['sepal length (cm)', 'sepal width (cm)', 'petal length (cm)', 'petal width (cm)']\n"
     ]
    }
   ],
   "source": [
    "print('특성 이름: ', iris_dataset['feature_names'])"
   ]
  },
  {
   "cell_type": "code",
   "execution_count": 6,
   "id": "a664f2fd",
   "metadata": {},
   "outputs": [
    {
     "name": "stdout",
     "output_type": "stream",
     "text": [
      "데이터 타입:  <class 'numpy.ndarray'>\n"
     ]
    }
   ],
   "source": [
    "print('데이터 타입: ', type(iris_dataset['data']))"
   ]
  },
  {
   "cell_type": "code",
   "execution_count": 7,
   "id": "34f932c5",
   "metadata": {},
   "outputs": [
    {
     "name": "stdout",
     "output_type": "stream",
     "text": [
      "데이터의 처음 다섯 행:\n",
      " [[5.1 3.5 1.4 0.2]\n",
      " [4.9 3.  1.4 0.2]\n",
      " [4.7 3.2 1.3 0.2]\n",
      " [4.6 3.1 1.5 0.2]\n",
      " [5.  3.6 1.4 0.2]]\n"
     ]
    }
   ],
   "source": [
    "print('데이터의 처음 다섯 행:\\n', iris_dataset['data'][:5])"
   ]
  },
  {
   "cell_type": "code",
   "execution_count": 8,
   "id": "34455ddd",
   "metadata": {},
   "outputs": [
    {
     "name": "stdout",
     "output_type": "stream",
     "text": [
      "target의 타입:\n",
      " <class 'numpy.ndarray'>\n"
     ]
    }
   ],
   "source": [
    "print('target의 타입:\\n', type(iris_dataset['target']))"
   ]
  },
  {
   "cell_type": "code",
   "execution_count": 9,
   "id": "862c9901",
   "metadata": {},
   "outputs": [
    {
     "name": "stdout",
     "output_type": "stream",
     "text": [
      "타깃:\n",
      " [0 0 0 0 0 0 0 0 0 0 0 0 0 0 0 0 0 0 0 0 0 0 0 0 0 0 0 0 0 0 0 0 0 0 0 0 0\n",
      " 0 0 0 0 0 0 0 0 0 0 0 0 0 1 1 1 1 1 1 1 1 1 1 1 1 1 1 1 1 1 1 1 1 1 1 1 1\n",
      " 1 1 1 1 1 1 1 1 1 1 1 1 1 1 1 1 1 1 1 1 1 1 1 1 1 1 2 2 2 2 2 2 2 2 2 2 2\n",
      " 2 2 2 2 2 2 2 2 2 2 2 2 2 2 2 2 2 2 2 2 2 2 2 2 2 2 2 2 2 2 2 2 2 2 2 2 2\n",
      " 2 2]\n"
     ]
    }
   ],
   "source": [
    "print('타깃:\\n', iris_dataset['target'])"
   ]
  },
  {
   "cell_type": "markdown",
   "id": "17a4892d",
   "metadata": {},
   "source": [
    "### 성과 측정: 훈련 데이터와 테스트 데이터\n",
    "모델이 데이터를 기억한다는 것은 모델을 잘 일반화하지 않았다는 뜻이다. <br>\n",
    "머신러닝 모델을 만들 때 사용하는 데이터: 훈련 데이터 혹은 훈련 세트(training set) <br>\n",
    "머신러닝 모델이 얼마나 잘 작동하는지 측정하는 데 사용하는 데이터: 테스트 데이터, 테스트 세트(test set) 혹은 홀드아웃 세트(hold-out set) <br>\n",
    "scikit-learn은 데이터셋을 섞어서 나눠주는 train_test_split 함수 제공"
   ]
  },
  {
   "cell_type": "code",
   "execution_count": 10,
   "id": "1012e01f",
   "metadata": {},
   "outputs": [],
   "source": [
    "from sklearn.model_selection import train_test_split\n",
    "X_train, X_test, y_train, y_test = train_test_split(\n",
    "iris_dataset['data'], iris_dataset['target'], random_state=0)"
   ]
  },
  {
   "cell_type": "code",
   "execution_count": 11,
   "id": "029ac4aa",
   "metadata": {},
   "outputs": [
    {
     "name": "stdout",
     "output_type": "stream",
     "text": [
      "X_train 크기:  (112, 4)\n",
      "y_train 크기:  (112,)\n"
     ]
    }
   ],
   "source": [
    "print('X_train 크기: ', X_train.shape)\n",
    "print('y_train 크기: ', y_train.shape)"
   ]
  },
  {
   "cell_type": "code",
   "execution_count": null,
   "id": "9214a8bf",
   "metadata": {},
   "outputs": [],
   "source": []
  }
 ],
 "metadata": {
  "kernelspec": {
   "display_name": "Python 3 (ipykernel)",
   "language": "python",
   "name": "python3"
  },
  "language_info": {
   "codemirror_mode": {
    "name": "ipython",
    "version": 3
   },
   "file_extension": ".py",
   "mimetype": "text/x-python",
   "name": "python",
   "nbconvert_exporter": "python",
   "pygments_lexer": "ipython3",
   "version": "3.7.10"
  }
 },
 "nbformat": 4,
 "nbformat_minor": 5
}
