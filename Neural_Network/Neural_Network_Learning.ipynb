{
 "cells": [
  {
   "cell_type": "markdown",
   "id": "86517cc1",
   "metadata": {},
   "source": [
    "# Training from Data\n",
    "Neural Network's feature is they can train by data.<br>\n",
    "It can decide parameter itself.<br>"
   ]
  },
  {
   "cell_type": "markdown",
   "id": "4e6bdcf3",
   "metadata": {},
   "source": [
    "## Data-Driven Learning\n",
    "Find answers and patterns from data and make stories with data. <br>\n",
    "Data exists in the middle of Machine Learning. <br>\n",
    "It can get out a people-centered approach. <br>\n",
    "It can extract features and have a way to train machine learning by pattern. <br>\n",
    "People have to bring out thoughts according to the approach that by using feature and ml."
   ]
  },
  {
   "cell_type": "markdown",
   "id": "d57266e9",
   "metadata": {},
   "source": [
    "## Training data and Test data\n",
    "Problem about ml have training data and test data. <br>\n",
    "To make a model universally, It have to split training data and test data.<br>\n",
    "To get universally capacity is most important of ml.<br>\n",
    "Avoid overfiting!"
   ]
  },
  {
   "cell_type": "markdown",
   "id": "9a2eb061",
   "metadata": {},
   "source": [
    "## Loss function\n",
    "\n",
    "**Explore optimal parameter values based on 'one indicator'** and <br>\n",
    "The indicator is called the **loss function**."
   ]
  },
  {
   "cell_type": "markdown",
   "id": "3d9fafda",
   "metadata": {},
   "source": [
    "### SSE (sum squared error, 오차제곱합)\n",
    "  \n",
    "<img src=\"https://velog.velcdn.com/images/yulim2/post/ac92a9b8-2f81-4994-bab0-6ae82c8a6670/image.png\" width=\"500\">\n",
    "\n",
    "\n",
    "#### The lower the error, the closer the answer."
   ]
  },
  {
   "cell_type": "code",
   "execution_count": 2,
   "id": "9ff839b9",
   "metadata": {},
   "outputs": [],
   "source": [
    "import numpy as np"
   ]
  },
  {
   "cell_type": "code",
   "execution_count": 3,
   "id": "c96fc12b",
   "metadata": {},
   "outputs": [],
   "source": [
    "y = [0.1, 0.05, 0.6, 0.0, 0.05, 0.1, 0.0, 0.1, 0.0, 0.0]\n",
    "t = [0, 0, 1, 0, 0, 0, 0, 0, 0, 0]"
   ]
  },
  {
   "cell_type": "code",
   "execution_count": 4,
   "id": "e09bd05f",
   "metadata": {},
   "outputs": [],
   "source": [
    "def sum_seqares_error(y, t):\n",
    "    return 0.5 * np.sum((y-t)**2)"
   ]
  },
  {
   "cell_type": "code",
   "execution_count": 5,
   "id": "6fa197ba",
   "metadata": {},
   "outputs": [
    {
     "data": {
      "text/plain": [
       "0.09750000000000003"
      ]
     },
     "execution_count": 5,
     "metadata": {},
     "output_type": "execute_result"
    }
   ],
   "source": [
    "sum_seqares_error(np.array(y), np.array(t))"
   ]
  },
  {
   "cell_type": "code",
   "execution_count": 6,
   "id": "be133618",
   "metadata": {},
   "outputs": [],
   "source": [
    "y2 = [0.1, 0.05, 0.1, 0.0, 0.05, 0.1, 0.0, 0.6, 0.0, 0.0]\n",
    "t2 = [0, 0, 1, 0, 0, 0, 0, 0, 0, 0]"
   ]
  },
  {
   "cell_type": "code",
   "execution_count": 7,
   "id": "07e7d631",
   "metadata": {
    "scrolled": true
   },
   "outputs": [
    {
     "data": {
      "text/plain": [
       "0.5975"
      ]
     },
     "execution_count": 7,
     "metadata": {},
     "output_type": "execute_result"
    }
   ],
   "source": [
    "sum_seqares_error(np.array(y2), np.array(t2))"
   ]
  },
  {
   "cell_type": "markdown",
   "id": "56edd2f9",
   "metadata": {},
   "source": [
    "### 교차 엔드로피 오차 (cross entropy error, CEE)\n",
    "\n",
    "<center>\n",
    "<img src=\"https://velog.velcdn.com/images/yulim2/post/070852a7-0003-4956-acce-ad59821a0068/image.png\" width=\"500\">\n",
    "  \n",
    "  <img src=\"https://velog.velcdn.com/images/yulim2/post/d951dad9-cad5-4019-a7ee-bccfb9a900ee/image.png\" width=\"500\">\n",
    "</center>\n",
    "\n",
    "#### 정답일 때의 출력이 전체 값을 정합니다."
   ]
  },
  {
   "cell_type": "code",
   "execution_count": 8,
   "id": "49828063",
   "metadata": {},
   "outputs": [],
   "source": [
    "import numpy as np"
   ]
  },
  {
   "cell_type": "code",
   "execution_count": 9,
   "id": "f2a53f5a",
   "metadata": {},
   "outputs": [],
   "source": [
    "y = [0.1, 0.05, 0.6, 0.0, 0.05, 0.1, 0.0, 0.1, 0.0, 0.0]\n",
    "t = [0, 0, 1, 0, 0, 0, 0, 0, 0, 0]"
   ]
  },
  {
   "cell_type": "code",
   "execution_count": 10,
   "id": "3e9f5a6f",
   "metadata": {},
   "outputs": [],
   "source": [
    "def cross_entropy_error(y, t):\n",
    "    delta = 1e-7\n",
    "    return -np.sum(t * np.log(y + delta))"
   ]
  },
  {
   "cell_type": "code",
   "execution_count": 12,
   "id": "3aeeed66",
   "metadata": {},
   "outputs": [
    {
     "data": {
      "text/plain": [
       "0.510825457099338"
      ]
     },
     "execution_count": 12,
     "metadata": {},
     "output_type": "execute_result"
    }
   ],
   "source": [
    "cross_entropy_error(np.array(y), np.array(t))"
   ]
  },
  {
   "cell_type": "code",
   "execution_count": 13,
   "id": "d22cc84f",
   "metadata": {},
   "outputs": [],
   "source": [
    "y2 = [0.1, 0.05, 0.1, 0.0, 0.05, 0.1, 0.0, 0.6, 0.0, 0.0]\n",
    "t2 = [0, 0, 1, 0, 0, 0, 0, 0, 0, 0]"
   ]
  },
  {
   "cell_type": "code",
   "execution_count": 14,
   "id": "be9bb38f",
   "metadata": {},
   "outputs": [
    {
     "data": {
      "text/plain": [
       "2.302584092994546"
      ]
     },
     "execution_count": 14,
     "metadata": {},
     "output_type": "execute_result"
    }
   ],
   "source": [
    "cross_entropy_error(np.array(y2), np.array(t2))"
   ]
  },
  {
   "cell_type": "markdown",
   "id": "2330106f",
   "metadata": {},
   "source": [
    "### Mini-batch\n",
    "\n",
    "Find **'average loss function'** of multiple loss functions in multiple data.<br>\n",
    "If there is a lot of data, some of it is selected and used as the **'approximate value'** of the whole.\n",
    "<center>\n",
    "<img src=\"https://velog.velcdn.com/images/yulim2/post/b9cb96fa-7e79-4bca-bc0e-e5f752d40dc8/image.png\" width=\"500\">\n",
    "</center>"
   ]
  },
  {
   "cell_type": "code",
   "execution_count": 18,
   "id": "31be282d",
   "metadata": {},
   "outputs": [],
   "source": [
    "# 필요한 모듈 임포트\n",
    "import sys, os\n",
    "sys.path.append(os.pardir)\n",
    "import numpy as np\n",
    "from dataset.mnist import load_mnist"
   ]
  },
  {
   "cell_type": "code",
   "execution_count": 19,
   "id": "5e86b210",
   "metadata": {},
   "outputs": [
    {
     "name": "stdout",
     "output_type": "stream",
     "text": [
      "Converting train-images-idx3-ubyte.gz to NumPy Array ...\n",
      "Done\n",
      "Converting train-labels-idx1-ubyte.gz to NumPy Array ...\n",
      "Done\n",
      "Converting t10k-images-idx3-ubyte.gz to NumPy Array ...\n",
      "Done\n",
      "Converting t10k-labels-idx1-ubyte.gz to NumPy Array ...\n",
      "Done\n",
      "Creating pickle file ...\n",
      "Done!\n",
      "(60000, 784)\n",
      "(60000, 10)\n"
     ]
    }
   ],
   "source": [
    "(x_train, t_train), (x_test, t_test) = \\\n",
    "    load_mnist(normalize=True, one_hot_label=True)\n",
    "\n",
    "print(x_train.shape)\n",
    "print(t_train.shape)"
   ]
  },
  {
   "cell_type": "code",
   "execution_count": 20,
   "id": "d60e1058",
   "metadata": {},
   "outputs": [],
   "source": [
    "train_size = x_train.shape[0]\n",
    "batch_size = 10\n",
    "batch_mask = np.random.choice(train_size, batch_size)\n",
    "x_batch = x_train[batch_mask]\n",
    "t_batch = t_train[batch_mask]"
   ]
  },
  {
   "cell_type": "code",
   "execution_count": 22,
   "id": "5f318827",
   "metadata": {},
   "outputs": [],
   "source": [
    "def cross_entropy_error(y, t):\n",
    "    if y.ndim == 1: # y가 1차원이라면\n",
    "        t = t.reshape(1, t.size)\n",
    "        y = y.reshape(1, y.size) # 데이터 형상을 바꿔준다\n",
    "        \n",
    "    batch_size = y.shape[0]\n",
    "    return -np.sum(np.log(y[np.arange(batch_size), t] + 1e-7)) / batch_size # 배치의 크기로 나눠 정규화하고 오차 계산"
   ]
  },
  {
   "cell_type": "code",
   "execution_count": null,
   "id": "ce1cffe6",
   "metadata": {},
   "outputs": [],
   "source": []
  }
 ],
 "metadata": {
  "kernelspec": {
   "display_name": "Python 3 (ipykernel)",
   "language": "python",
   "name": "python3"
  },
  "language_info": {
   "codemirror_mode": {
    "name": "ipython",
    "version": 3
   },
   "file_extension": ".py",
   "mimetype": "text/x-python",
   "name": "python",
   "nbconvert_exporter": "python",
   "pygments_lexer": "ipython3",
   "version": "3.8.13"
  }
 },
 "nbformat": 4,
 "nbformat_minor": 5
}
